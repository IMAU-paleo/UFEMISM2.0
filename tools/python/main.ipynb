{
 "cells": [
  {
   "cell_type": "markdown",
   "metadata": {},
   "source": [
    "#### Example on how to make basic plots from UFEMISM output"
   ]
  },
  {
   "cell_type": "code",
   "execution_count": null,
   "metadata": {},
   "outputs": [],
   "source": [
    "%load_ext autoreload\n",
    "%autoreload 2\n",
    "\n",
    "from main_run import *\n",
    "from main_mesh import *\n",
    "from main_figure import *\n",
    "from main_movie import *"
   ]
  },
  {
   "cell_type": "markdown",
   "metadata": {},
   "source": [
    "Choose directory of run and read"
   ]
  },
  {
   "cell_type": "code",
   "execution_count": null,
   "metadata": {},
   "outputs": [],
   "source": [
    "#Load run\n",
    "run = Run('../../automated_testing/integrated_tests/idealised/MISMIPplus/results_5km_iceocean1r')\n",
    "\n",
    "run.Nmeshes"
   ]
  },
  {
   "cell_type": "markdown",
   "metadata": {},
   "source": [
    "Make a plot of scalar diagnostics"
   ]
  },
  {
   "cell_type": "code",
   "execution_count": null,
   "metadata": {},
   "outputs": [],
   "source": [
    "run.plot_scalars()"
   ]
  },
  {
   "cell_type": "markdown",
   "metadata": {},
   "source": [
    "### Make a plot from a single mesh and time slice"
   ]
  },
  {
   "cell_type": "code",
   "execution_count": null,
   "metadata": {},
   "outputs": [],
   "source": [
    "#Load mesh\n",
    "mesh = Mesh(run,1)\n",
    "\n",
    "#Check number of available time slices\n",
    "mesh.Ntimes"
   ]
  },
  {
   "cell_type": "code",
   "execution_count": null,
   "metadata": {},
   "outputs": [],
   "source": [
    "#Extract time frame\n",
    "timeframe = Timeframe(mesh,4)\n",
    "timeframe.time"
   ]
  },
  {
   "cell_type": "code",
   "execution_count": null,
   "metadata": {},
   "outputs": [],
   "source": [
    "#Create figure\n",
    "outputdir = os.path.join(run.directory,'figures')\n",
    "fig = Figure(figsize=(7,5),directory=outputdir)\n",
    "fig.set_orientation('vertical')\n",
    "\n",
    "#Add fields from timeframe\n",
    "fig.add_field(timeframe, 'Hib', mask='shelf')\n",
    "fig.add_field(timeframe, 'BMB_v2', mask='shelf')\n",
    "fig.add_field(timeframe, 'uabs_surf')\n",
    "\n",
    "fig.make(figname='test',dxmin=3e5,dxmax=1.5e5)"
   ]
  },
  {
   "cell_type": "markdown",
   "metadata": {},
   "source": [
    "### Choose variables and time slice for making a plot"
   ]
  },
  {
   "cell_type": "code",
   "execution_count": null,
   "metadata": {},
   "outputs": [],
   "source": [
    "#Create movie\n",
    "movie = Movie(run, ['Hib','BMB_v2','Uabs_lad'])\n",
    "movie.make(interval=2, length=10)"
   ]
  }
 ],
 "metadata": {
  "kernelspec": {
   "display_name": "ufelad",
   "language": "python",
   "name": "python3"
  },
  "language_info": {
   "codemirror_mode": {
    "name": "ipython",
    "version": 3
   },
   "file_extension": ".py",
   "mimetype": "text/x-python",
   "name": "python",
   "nbconvert_exporter": "python",
   "pygments_lexer": "ipython3",
   "version": "3.13.2"
  }
 },
 "nbformat": 4,
 "nbformat_minor": 2
}
